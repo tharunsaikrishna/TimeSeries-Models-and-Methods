{
 "cells": [
  {
   "cell_type": "code",
   "execution_count": 49,
   "id": "23cc5f1f-ab6b-42dc-94e1-e0ca86ba5931",
   "metadata": {},
   "outputs": [
    {
     "name": "stdout",
     "output_type": "stream",
     "text": [
      "    datesold  postcode    price propertyType  bedrooms\n",
      "0 2007-02-07      2607   525000        house         4\n",
      "1 2007-02-27      2906   290000        house         3\n",
      "2 2007-03-07      2905   328000        house         3\n",
      "3 2007-03-09      2905   380000        house         4\n",
      "4 2007-03-21      2906   310000        house         3\n",
      "5 2007-04-04      2905   465000        house         4\n",
      "6 2007-04-24      2607   399000        house         3\n",
      "7 2007-04-30      2606  1530000        house         4\n",
      "8 2007-05-24      2902   359000        house         3\n",
      "9 2007-05-25      2906   320000        house         3\n",
      "        datesold  postcode   price propertyType  bedrooms\n",
      "29570 2019-07-25      2620  172500         unit         1\n",
      "29571 2019-07-25      2603  297500         unit         2\n",
      "29572 2019-07-25      2606  321000         unit         1\n",
      "29573 2019-07-25      2603  380000         unit         1\n",
      "29574 2019-07-25      2612  475000         unit         2\n",
      "29575 2019-07-25      2900  500000         unit         3\n",
      "29576 2019-07-25      2612  560000         unit         2\n",
      "29577 2019-07-26      2912  464950         unit         2\n",
      "29578 2019-07-26      2601  589000         unit         2\n",
      "29579 2019-07-26      2612  775000         unit         2\n"
     ]
    }
   ],
   "source": [
    "import pandas as pd\n",
    "import numpy as np\n",
    "import matplotlib.pyplot as plt\n",
    "import seaborn as sns\n",
    "import statistics as st\n",
    "df=pd.read_csv(\"C:/Users/admin/Desktop/126156163/archive/raw_sales.csv\",parse_dates=['datesold'])\n",
    "print(df.head(10))\n",
    "print(df.tail(10))"
   ]
  },
  {
   "cell_type": "code",
   "execution_count": 23,
   "id": "90b29b00-773a-4560-8eef-861232b529de",
   "metadata": {},
   "outputs": [
    {
     "name": "stdout",
     "output_type": "stream",
     "text": [
      "<class 'pandas.core.frame.DataFrame'>\n",
      "RangeIndex: 29580 entries, 0 to 29579\n",
      "Data columns (total 5 columns):\n",
      " #   Column        Non-Null Count  Dtype         \n",
      "---  ------        --------------  -----         \n",
      " 0   datesold      29580 non-null  datetime64[ns]\n",
      " 1   postcode      29580 non-null  int64         \n",
      " 2   price         29580 non-null  int64         \n",
      " 3   propertyType  29580 non-null  object        \n",
      " 4   bedrooms      29580 non-null  int64         \n",
      "dtypes: datetime64[ns](1), int64(3), object(1)\n",
      "memory usage: 1.1+ MB\n"
     ]
    }
   ],
   "source": [
    "df.info()"
   ]
  },
  {
   "cell_type": "code",
   "execution_count": 7,
   "id": "e16bbbab-a2d1-46ba-8755-118dc7d7b6cc",
   "metadata": {},
   "outputs": [
    {
     "data": {
      "text/html": [
       "<div>\n",
       "<style scoped>\n",
       "    .dataframe tbody tr th:only-of-type {\n",
       "        vertical-align: middle;\n",
       "    }\n",
       "\n",
       "    .dataframe tbody tr th {\n",
       "        vertical-align: top;\n",
       "    }\n",
       "\n",
       "    .dataframe thead th {\n",
       "        text-align: right;\n",
       "    }\n",
       "</style>\n",
       "<table border=\"1\" class=\"dataframe\">\n",
       "  <thead>\n",
       "    <tr style=\"text-align: right;\">\n",
       "      <th></th>\n",
       "      <th>postcode</th>\n",
       "      <th>price</th>\n",
       "      <th>bedrooms</th>\n",
       "    </tr>\n",
       "  </thead>\n",
       "  <tbody>\n",
       "    <tr>\n",
       "      <th>count</th>\n",
       "      <td>29580.000000</td>\n",
       "      <td>2.958000e+04</td>\n",
       "      <td>29580.000000</td>\n",
       "    </tr>\n",
       "    <tr>\n",
       "      <th>mean</th>\n",
       "      <td>2730.249730</td>\n",
       "      <td>6.097363e+05</td>\n",
       "      <td>3.250169</td>\n",
       "    </tr>\n",
       "    <tr>\n",
       "      <th>std</th>\n",
       "      <td>146.717292</td>\n",
       "      <td>2.817079e+05</td>\n",
       "      <td>0.951275</td>\n",
       "    </tr>\n",
       "    <tr>\n",
       "      <th>min</th>\n",
       "      <td>2600.000000</td>\n",
       "      <td>5.650000e+04</td>\n",
       "      <td>0.000000</td>\n",
       "    </tr>\n",
       "    <tr>\n",
       "      <th>25%</th>\n",
       "      <td>2607.000000</td>\n",
       "      <td>4.400000e+05</td>\n",
       "      <td>3.000000</td>\n",
       "    </tr>\n",
       "    <tr>\n",
       "      <th>50%</th>\n",
       "      <td>2615.000000</td>\n",
       "      <td>5.500000e+05</td>\n",
       "      <td>3.000000</td>\n",
       "    </tr>\n",
       "    <tr>\n",
       "      <th>75%</th>\n",
       "      <td>2905.000000</td>\n",
       "      <td>7.050000e+05</td>\n",
       "      <td>4.000000</td>\n",
       "    </tr>\n",
       "    <tr>\n",
       "      <th>max</th>\n",
       "      <td>2914.000000</td>\n",
       "      <td>8.000000e+06</td>\n",
       "      <td>5.000000</td>\n",
       "    </tr>\n",
       "  </tbody>\n",
       "</table>\n",
       "</div>"
      ],
      "text/plain": [
       "           postcode         price      bedrooms\n",
       "count  29580.000000  2.958000e+04  29580.000000\n",
       "mean    2730.249730  6.097363e+05      3.250169\n",
       "std      146.717292  2.817079e+05      0.951275\n",
       "min     2600.000000  5.650000e+04      0.000000\n",
       "25%     2607.000000  4.400000e+05      3.000000\n",
       "50%     2615.000000  5.500000e+05      3.000000\n",
       "75%     2905.000000  7.050000e+05      4.000000\n",
       "max     2914.000000  8.000000e+06      5.000000"
      ]
     },
     "execution_count": 7,
     "metadata": {},
     "output_type": "execute_result"
    }
   ],
   "source": [
    "df.describe()"
   ]
  },
  {
   "cell_type": "code",
   "execution_count": 61,
   "id": "4f6770aa-904d-4971-af99-9030f91de47e",
   "metadata": {},
   "outputs": [],
   "source": [
    "df['year']=df['datesold'].dt.year\n"
   ]
  },
  {
   "cell_type": "code",
   "execution_count": 62,
   "id": "49fba787-ff92-4bcf-9ef1-c43604618c8d",
   "metadata": {},
   "outputs": [
    {
     "data": {
      "text/html": [
       "<div>\n",
       "<style scoped>\n",
       "    .dataframe tbody tr th:only-of-type {\n",
       "        vertical-align: middle;\n",
       "    }\n",
       "\n",
       "    .dataframe tbody tr th {\n",
       "        vertical-align: top;\n",
       "    }\n",
       "\n",
       "    .dataframe thead th {\n",
       "        text-align: right;\n",
       "    }\n",
       "</style>\n",
       "<table border=\"1\" class=\"dataframe\">\n",
       "  <thead>\n",
       "    <tr style=\"text-align: right;\">\n",
       "      <th></th>\n",
       "      <th>datesold</th>\n",
       "      <th>postcode</th>\n",
       "      <th>price</th>\n",
       "      <th>propertyType</th>\n",
       "      <th>bedrooms</th>\n",
       "      <th>year</th>\n",
       "    </tr>\n",
       "  </thead>\n",
       "  <tbody>\n",
       "    <tr>\n",
       "      <th>0</th>\n",
       "      <td>2007-02-07</td>\n",
       "      <td>2607</td>\n",
       "      <td>525000</td>\n",
       "      <td>house</td>\n",
       "      <td>4</td>\n",
       "      <td>2007</td>\n",
       "    </tr>\n",
       "    <tr>\n",
       "      <th>1</th>\n",
       "      <td>2007-02-27</td>\n",
       "      <td>2906</td>\n",
       "      <td>290000</td>\n",
       "      <td>house</td>\n",
       "      <td>3</td>\n",
       "      <td>2007</td>\n",
       "    </tr>\n",
       "    <tr>\n",
       "      <th>2</th>\n",
       "      <td>2007-03-07</td>\n",
       "      <td>2905</td>\n",
       "      <td>328000</td>\n",
       "      <td>house</td>\n",
       "      <td>3</td>\n",
       "      <td>2007</td>\n",
       "    </tr>\n",
       "    <tr>\n",
       "      <th>3</th>\n",
       "      <td>2007-03-09</td>\n",
       "      <td>2905</td>\n",
       "      <td>380000</td>\n",
       "      <td>house</td>\n",
       "      <td>4</td>\n",
       "      <td>2007</td>\n",
       "    </tr>\n",
       "    <tr>\n",
       "      <th>4</th>\n",
       "      <td>2007-03-21</td>\n",
       "      <td>2906</td>\n",
       "      <td>310000</td>\n",
       "      <td>house</td>\n",
       "      <td>3</td>\n",
       "      <td>2007</td>\n",
       "    </tr>\n",
       "  </tbody>\n",
       "</table>\n",
       "</div>"
      ],
      "text/plain": [
       "    datesold  postcode   price propertyType  bedrooms  year\n",
       "0 2007-02-07      2607  525000        house         4  2007\n",
       "1 2007-02-27      2906  290000        house         3  2007\n",
       "2 2007-03-07      2905  328000        house         3  2007\n",
       "3 2007-03-09      2905  380000        house         4  2007\n",
       "4 2007-03-21      2906  310000        house         3  2007"
      ]
     },
     "execution_count": 62,
     "metadata": {},
     "output_type": "execute_result"
    }
   ],
   "source": [
    "df.head()"
   ]
  },
  {
   "cell_type": "code",
   "execution_count": 82,
   "id": "165bf797-b99e-44e8-ae1f-b09b36f880dc",
   "metadata": {},
   "outputs": [
    {
     "name": "stdout",
     "output_type": "stream",
     "text": [
      "2007 2019\n"
     ]
    }
   ],
   "source": [
    "first=df['year'][0]\n",
    "last=df['year'][len(df)-1]\n",
    "print(first,last)"
   ]
  },
  {
   "cell_type": "code",
   "execution_count": 86,
   "id": "09cc54f2-c27e-41ad-b534-7e3f12cdf51e",
   "metadata": {},
   "outputs": [
    {
     "name": "stdout",
     "output_type": "stream",
     "text": [
      "[2007, 2008, 2009, 2010, 2011, 2012, 2013, 2014, 2015, 2016, 2017, 2018, 2019]\n",
      "<class 'int'>\n"
     ]
    }
   ],
   "source": [
    "years=list([i for i in range(first,last+1)])\n",
    "print(years)\n",
    "print(type(years[0]))"
   ]
  },
  {
   "cell_type": "code",
   "execution_count": 85,
   "id": "6a3eba05-9daa-4aba-bf9f-3c3b18fcbbf1",
   "metadata": {},
   "outputs": [
    {
     "data": {
      "text/plain": [
       "[522377.2108843537,\n",
       " 493814.1627543036,\n",
       " 496092.0329593268,\n",
       " 559564.8102893891,\n",
       " 566715.1102265768,\n",
       " 552501.3692142088,\n",
       " 553416.2968381312,\n",
       " 592653.76143905,\n",
       " 626101.3426535088,\n",
       " 635185.3116683726,\n",
       " 671880.551420392,\n",
       " 660701.0427682737,\n",
       " 634184.2187725632]"
      ]
     },
     "execution_count": 85,
     "metadata": {},
     "output_type": "execute_result"
    }
   ],
   "source": [
    "averages=[]\n",
    "for i in range(first,last+1):\n",
    "    averages.append(st.mean(list(df[df['year']==i]['price'])))\n",
    "averages"
   ]
  },
  {
   "cell_type": "code",
   "execution_count": 96,
   "id": "c0660563-63c0-419f-8056-c61ef94356be",
   "metadata": {},
   "outputs": [
    {
     "name": "stdout",
     "output_type": "stream",
     "text": [
      "2007 ----> 147 sales\n",
      "2008 ----> 639 sales\n",
      "2009 ----> 1426 sales\n",
      "2010 ----> 1555 sales\n",
      "2011 ----> 1633 sales\n",
      "2012 ----> 1858 sales\n",
      "2013 ----> 2119 sales\n",
      "2014 ----> 2863 sales\n",
      "2015 ----> 3648 sales\n",
      "2016 ----> 3908 sales\n",
      "2017 ----> 4541 sales\n",
      "2018 ----> 3858 sales\n",
      "2019 ----> 1385 sales\n"
     ]
    }
   ],
   "source": [
    "for i in years:\n",
    "    print(i,\"---->\",len(df[df['year']==i]),\"sales\")"
   ]
  },
  {
   "cell_type": "code",
   "execution_count": 97,
   "id": "6e67f6e6-a990-496c-ac46-fea63f2e4467",
   "metadata": {},
   "outputs": [],
   "source": [
    "df['month']=df['datesold'].dt.month"
   ]
  },
  {
   "cell_type": "code",
   "execution_count": 98,
   "id": "6cb95569-5f49-4440-921e-950c8941acf0",
   "metadata": {},
   "outputs": [
    {
     "data": {
      "text/html": [
       "<div>\n",
       "<style scoped>\n",
       "    .dataframe tbody tr th:only-of-type {\n",
       "        vertical-align: middle;\n",
       "    }\n",
       "\n",
       "    .dataframe tbody tr th {\n",
       "        vertical-align: top;\n",
       "    }\n",
       "\n",
       "    .dataframe thead th {\n",
       "        text-align: right;\n",
       "    }\n",
       "</style>\n",
       "<table border=\"1\" class=\"dataframe\">\n",
       "  <thead>\n",
       "    <tr style=\"text-align: right;\">\n",
       "      <th></th>\n",
       "      <th>datesold</th>\n",
       "      <th>postcode</th>\n",
       "      <th>price</th>\n",
       "      <th>propertyType</th>\n",
       "      <th>bedrooms</th>\n",
       "      <th>year</th>\n",
       "      <th>month</th>\n",
       "    </tr>\n",
       "  </thead>\n",
       "  <tbody>\n",
       "    <tr>\n",
       "      <th>0</th>\n",
       "      <td>2007-02-07</td>\n",
       "      <td>2607</td>\n",
       "      <td>525000</td>\n",
       "      <td>house</td>\n",
       "      <td>4</td>\n",
       "      <td>2007</td>\n",
       "      <td>2</td>\n",
       "    </tr>\n",
       "    <tr>\n",
       "      <th>1</th>\n",
       "      <td>2007-02-27</td>\n",
       "      <td>2906</td>\n",
       "      <td>290000</td>\n",
       "      <td>house</td>\n",
       "      <td>3</td>\n",
       "      <td>2007</td>\n",
       "      <td>2</td>\n",
       "    </tr>\n",
       "    <tr>\n",
       "      <th>2</th>\n",
       "      <td>2007-03-07</td>\n",
       "      <td>2905</td>\n",
       "      <td>328000</td>\n",
       "      <td>house</td>\n",
       "      <td>3</td>\n",
       "      <td>2007</td>\n",
       "      <td>3</td>\n",
       "    </tr>\n",
       "    <tr>\n",
       "      <th>3</th>\n",
       "      <td>2007-03-09</td>\n",
       "      <td>2905</td>\n",
       "      <td>380000</td>\n",
       "      <td>house</td>\n",
       "      <td>4</td>\n",
       "      <td>2007</td>\n",
       "      <td>3</td>\n",
       "    </tr>\n",
       "    <tr>\n",
       "      <th>4</th>\n",
       "      <td>2007-03-21</td>\n",
       "      <td>2906</td>\n",
       "      <td>310000</td>\n",
       "      <td>house</td>\n",
       "      <td>3</td>\n",
       "      <td>2007</td>\n",
       "      <td>3</td>\n",
       "    </tr>\n",
       "  </tbody>\n",
       "</table>\n",
       "</div>"
      ],
      "text/plain": [
       "    datesold  postcode   price propertyType  bedrooms  year  month\n",
       "0 2007-02-07      2607  525000        house         4  2007      2\n",
       "1 2007-02-27      2906  290000        house         3  2007      2\n",
       "2 2007-03-07      2905  328000        house         3  2007      3\n",
       "3 2007-03-09      2905  380000        house         4  2007      3\n",
       "4 2007-03-21      2906  310000        house         3  2007      3"
      ]
     },
     "execution_count": 98,
     "metadata": {},
     "output_type": "execute_result"
    }
   ],
   "source": [
    "df.head()"
   ]
  },
  {
   "cell_type": "code",
   "execution_count": 107,
   "id": "b384847a-d5c1-4d9b-827e-de7c38c35a6a",
   "metadata": {},
   "outputs": [
    {
     "name": "stdout",
     "output_type": "stream",
     "text": [
      "month\n",
      "1     556812.934816\n",
      "2     604714.174322\n",
      "3     624162.017373\n",
      "4     615371.905186\n",
      "5     613112.762603\n",
      "6     602028.727067\n",
      "7     588337.742666\n",
      "8     584237.228489\n",
      "9     611577.791719\n",
      "10    611372.174647\n",
      "11    647936.112186\n",
      "12    618168.901316\n",
      "Name: price, dtype: float64\n"
     ]
    }
   ],
   "source": [
    "a=df.groupby('month')['price'].mean()\n",
    "print(a)"
   ]
  },
  {
   "cell_type": "code",
   "execution_count": null,
   "id": "4b4dd6a0-f73b-4af5-a87a-35e452d11628",
   "metadata": {},
   "outputs": [],
   "source": []
  }
 ],
 "metadata": {
  "kernelspec": {
   "display_name": "Python 3 (ipykernel)",
   "language": "python",
   "name": "python3"
  },
  "language_info": {
   "codemirror_mode": {
    "name": "ipython",
    "version": 3
   },
   "file_extension": ".py",
   "mimetype": "text/x-python",
   "name": "python",
   "nbconvert_exporter": "python",
   "pygments_lexer": "ipython3",
   "version": "3.11.7"
  }
 },
 "nbformat": 4,
 "nbformat_minor": 5
}
